{
 "cells": [
  {
   "cell_type": "markdown",
   "metadata": {},
   "source": [
    "##Using LSTM Cells in a recurrent neural network, this will generate chatbot profiles for each primary southpark character"
   ]
  },
  {
   "cell_type": "code",
   "execution_count": 10,
   "metadata": {
    "collapsed": false
   },
   "outputs": [],
   "source": [
    "# This Python 3 environment comes with many helpful analytics libraries installed\n",
    "# It is defined by the kaggle/python docker image: https://github.com/kaggle/docker-python\n",
    "# For example, here's several helpful packages to load in \n",
    "\n",
    "import numpy as np # linear algebra\n",
    "import pandas as pd # data processing, CSV file I/O (e.g. pd.read_csv)\n",
    "\n",
    "# Input data files are available in the \"../input/\" directory.\n",
    "# For example, running this (by clicking run or pressing Shift+Enter) will list the files in the input directory\n",
    "\n",
    "#from subprocess import check_output\n",
    "#print(check_output([\"ls\", \"../input\"]).decode(\"utf8\"))\n",
    "\n",
    "# Any results you write to the current directory are saved as output."
   ]
  },
  {
   "cell_type": "code",
   "execution_count": 11,
   "metadata": {
    "collapsed": true
   },
   "outputs": [],
   "source": [
    "df = pd.read_csv(\"../input/All-seasons.csv\")"
   ]
  },
  {
   "cell_type": "code",
   "execution_count": 12,
   "metadata": {
    "collapsed": true
   },
   "outputs": [],
   "source": [
    "lines = df[\"Line\"]\n",
    "characters = df[\"Character\"]\n",
    "episodes = df[\"Episode\"]\n",
    "charlines = \"(\"+characters+\") \" + lines\n",
    "text = \"\"\n",
    "for line in charlines:\n",
    "    text += line"
   ]
  },
  {
   "cell_type": "code",
   "execution_count": 54,
   "metadata": {
    "collapsed": false
   },
   "outputs": [],
   "source": [
    "token_dict = { \n",
    "    '!': '||EXCLAIMATIONMARK||',\n",
    "    '?': '||QUESTIONMARK||',\n",
    "    '--': '||DOUBLEDASH||',\n",
    "    '\"': '||DOUBLEQUOTE||',\n",
    "    ',': '||COMMA||',\n",
    "    '.': '||PERIOD||',\n",
    "    ';': '||SEMICOLON||',\n",
    "    '\\n': '||NEWLINE||',\n",
    "    '(': '||OPENPAREN||',\n",
    "    ')': '||CLOSEPAREN||',\n",
    "    #'+': '||PLUS||',\n",
    "    '&': '||AMPERSAND||',\n",
    "    ':': '||COLON||',\n",
    "    #'\\'': '||APOSTROPHE||',\n",
    "    #'-': '||DASH||',\n",
    "}\n",
    "\n",
    "for key,token in token_dict.items() :\n",
    "    text = text.replace(key, ' {} '.format(token)) \n",
    "    \n",
    "text = text.lower().split()"
   ]
  },
  {
   "cell_type": "code",
   "execution_count": 60,
   "metadata": {
    "collapsed": false
   },
   "outputs": [],
   "source": [
    "vocab = set(text)\n",
    "vocab_to_int = {w:i for i,w in enumerate(vocab)}\n",
    "int_to_vocab = {i:w for w,i in vocab_to_int.items()}\n",
    "int_text = [vocab_to_int[word] for word in text]"
   ]
  },
  {
   "cell_type": "markdown",
   "metadata": {},
   "source": [
    "### Save preprocessed data to file"
   ]
  },
  {
   "cell_type": "code",
   "execution_count": null,
   "metadata": {
    "collapsed": true
   },
   "outputs": [],
   "source": [
    "pickle.dump((int_text, vocab_to_int, int_to_vocab, token_dict), open('preprocess.p', 'wb'))"
   ]
  },
  {
   "cell_type": "markdown",
   "metadata": {},
   "source": [
    "## Checkpoint"
   ]
  },
  {
   "cell_type": "code",
   "execution_count": null,
   "metadata": {
    "collapsed": true
   },
   "outputs": [],
   "source": [
    "int_text, vocab_to_int, int_to_vocab, token_dict = pickle.load(open('preprocess.p', mode='rb'))"
   ]
  }
 ],
 "metadata": {
  "anaconda-cloud": {},
  "kernelspec": {
   "display_name": "Python [conda env:tensorflow-1-gpu]",
   "language": "python",
   "name": "conda-env-tensorflow-1-gpu-py"
  },
  "language_info": {
   "codemirror_mode": {
    "name": "ipython",
    "version": 3
   },
   "file_extension": ".py",
   "mimetype": "text/x-python",
   "name": "python",
   "nbconvert_exporter": "python",
   "pygments_lexer": "ipython3",
   "version": "3.5.3"
  }
 },
 "nbformat": 4,
 "nbformat_minor": 0
}
